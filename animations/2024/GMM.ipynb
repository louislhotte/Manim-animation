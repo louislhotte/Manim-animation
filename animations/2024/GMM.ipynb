{
 "cells": [
  {
   "cell_type": "markdown",
   "metadata": {},
   "source": [
    "# Bloomberg - Two chords"
   ]
  },
  {
   "cell_type": "code",
   "execution_count": 1,
   "metadata": {},
   "outputs": [
    {
     "data": {
      "text/plain": [
       "'\\n-----------------------------\\n%%manim -ql -v WARNING Video\\n%%manim -qm -v WARNING Video\\n%%manim -qh -v WARNING Video\\n-----------------------------\\n\\n^^^ THE CODE IS ABOVE EVERY CELL AND \"qL\", \"qM\", \"qH\" INDICATES LOW, MEDIUM OR HIGH RESOLUTION.\\n\\n    USE LOW WHEN WRITING THE CODE, TESTING STUFF ETC. AND HIGH WHEN PRODUCING THE FINAL VERSION.\\n'"
      ]
     },
     "execution_count": 1,
     "metadata": {},
     "output_type": "execute_result"
    }
   ],
   "source": [
    "'''\n",
    "-----------------------------\n",
    "%%manim -ql -v WARNING Video\n",
    "%%manim -qm -v WARNING Video\n",
    "%%manim -qh -v WARNING Video\n",
    "-----------------------------\n",
    "\n",
    "^^^ THE CODE IS ABOVE EVERY CELL AND \"qL\", \"qM\", \"qH\" INDICATES LOW, MEDIUM OR HIGH RESOLUTION.\n",
    "\n",
    "    USE LOW WHEN WRITING THE CODE, TESTING STUFF ETC. AND HIGH WHEN PRODUCING THE FINAL VERSION.\n",
    "'''"
   ]
  },
  {
   "cell_type": "markdown",
   "metadata": {},
   "source": [
    "# I - Code"
   ]
  },
  {
   "cell_type": "code",
   "execution_count": 2,
   "metadata": {},
   "outputs": [],
   "source": [
    "from manim import *\n",
    "import numpy as np\n",
    "from sklearn.mixture import GaussianMixture"
   ]
  },
  {
   "cell_type": "code",
   "execution_count": 72,
   "metadata": {},
   "outputs": [
    {
     "data": {
      "text/html": [
       "<pre style=\"white-space:pre;overflow-x:auto;line-height:normal;font-family:Menlo,'DejaVu Sans Mono',consolas,'Courier New',monospace\">Manim Community <span style=\"color: #008000; text-decoration-color: #008000\">v0.18.1</span>\n",
       "\n",
       "</pre>\n"
      ],
      "text/plain": [
       "Manim Community \u001b[32mv0.\u001b[0m\u001b[32m18.1\u001b[0m\n",
       "\n"
      ]
     },
     "metadata": {},
     "output_type": "display_data"
    },
    {
     "name": "stderr",
     "output_type": "stream",
     "text": [
      "                                                                                                        \r"
     ]
    },
    {
     "data": {
      "text/html": [
       "<video src=\"media\\jupyter\\GMMClustering@2025-03-29@14-04-14.mp4\" controls autoplay loop style=\"max-width: 60%;\"  >\n",
       "      Your browser does not support the <code>video</code> element.\n",
       "    </video>"
      ],
      "text/plain": [
       "<IPython.core.display.Video object>"
      ]
     },
     "metadata": {},
     "output_type": "display_data"
    }
   ],
   "source": [
    "%%manim -qh -v WARNING --disable_caching GMMClustering\n",
    "from manim import *\n",
    "import numpy as np\n",
    "from sklearn.mixture import GaussianMixture\n",
    "from sklearn.cluster import KMeans\n",
    "\n",
    "class GMMClustering(Scene):\n",
    "    def generate_data(self, n=900):\n",
    "        np.random.seed(42)\n",
    "        n_per_cluster = n // 3\n",
    "\n",
    "        def generate_diagonal_cluster(center, direction, noise_scale, count):\n",
    "            t = np.linspace(-1, 1, count)\n",
    "            direction = direction / np.linalg.norm(direction)\n",
    "            points = center + np.outer(t, direction)\n",
    "            noise = np.random.normal(scale=noise_scale, size=points.shape)\n",
    "            return points + noise\n",
    "\n",
    "        C1 = generate_diagonal_cluster(np.array([1, 8]), np.array([-3, -5]), 0.2, n_per_cluster)\n",
    "        C2 = generate_diagonal_cluster(np.array([2, 7]), np.array([-3, -5]), 0.2, n_per_cluster)\n",
    "        C3 = generate_diagonal_cluster(np.array([3, 6]), np.array([-3, -5]), 0.2, n_per_cluster)\n",
    "\n",
    "\n",
    "        return np.vstack([C1, C2, C3])\n",
    "\n",
    "    def draw_points_with_aura(self, data, labels, colors):\n",
    "        group = VGroup()\n",
    "        for i, (x, y) in enumerate(data):\n",
    "            color = colors[labels[i]]\n",
    "            glow = Dot(point=[x, y, 0], radius=0.1, color=color, stroke_width=0)\n",
    "            glow.set_fill(color, opacity=0.15)\n",
    "            point = Dot(point=[x, y, 0], radius=0.03, color=color)\n",
    "            group.add(glow, point)\n",
    "        return group\n",
    "\n",
    "    def draw_gaussians(self, gmm, colors, layers=5, alpha_start=0.5):\n",
    "        gaussians = VGroup()\n",
    "        for i, (mean, covar) in enumerate(zip(gmm.means_, gmm.covariances_)):\n",
    "            vals, vecs = np.linalg.eigh(covar)\n",
    "            order = vals.argsort()[::-1]\n",
    "            vals = vals[order]\n",
    "            vecs = vecs[:, order]\n",
    "            theta = np.arctan2(*vecs[:, 0][::-1])\n",
    "\n",
    "            for j in range(1, layers + 1):\n",
    "                scale = j / layers\n",
    "                ellipse = Circle(radius=1.0)\n",
    "                ellipse.stretch_to_fit_width(2 * np.sqrt(vals[0]) * scale)\n",
    "                ellipse.stretch_to_fit_height(2 * np.sqrt(vals[1]) * scale)\n",
    "                ellipse.rotate(theta)\n",
    "                ellipse.move_to([*mean, 0])\n",
    "\n",
    "                fill_opacity = alpha_start * (1 - scale * 0.7)\n",
    "                fill_color = interpolate_color(WHITE, colors[i], 0.4)\n",
    "                stroke_color = interpolate_color(colors[i], BLACK, 0.4)\n",
    "\n",
    "                ellipse.set_fill(color=fill_color, opacity=fill_opacity)\n",
    "                ellipse.set_stroke(color=stroke_color, width=1.5)\n",
    "\n",
    "                gaussians.add(ellipse)\n",
    "\n",
    "        return gaussians\n",
    "\n",
    "    def create_legend(self, colors):\n",
    "        entries = VGroup()\n",
    "        for i, color in enumerate(colors):\n",
    "            dot = Dot(color=color).scale(0.8)\n",
    "            label = Text(f\"Cluster {i+1}\", font_size=24, color=color)\n",
    "            entry = VGroup(dot, label).arrange(RIGHT, buff=0.3)\n",
    "            entries.add(entry)\n",
    "        legend = entries.arrange(DOWN, aligned_edge=LEFT)\n",
    "        return legend\n",
    "\n",
    "    def construct(self):\n",
    "        data = self.generate_data()\n",
    "        colors = [GREEN, ORANGE, BLUE]\n",
    "\n",
    "        # GMM clustering\n",
    "        gmm = GaussianMixture(n_components=3, covariance_type='full', random_state=42)\n",
    "        gmm.fit(data)\n",
    "        gmm_labels = gmm.predict(data)\n",
    "\n",
    "        gmm_points = self.draw_points_with_aura(data, gmm_labels, colors)\n",
    "        gmm_ellipses = self.draw_gaussians(gmm, colors)\n",
    "        gmm_legend = self.create_legend(colors).next_to(gmm_points, DOWN, buff=0.5)\n",
    "        gmm_title = Text(\"GMM Clustering\", font_size=28).next_to(gmm_points, UP, buff=0.6)\n",
    "\n",
    "        gmm_group = VGroup(gmm_points, gmm_ellipses, gmm_legend, gmm_title).move_to(ORIGIN)\n",
    "\n",
    "        self.play(FadeIn(gmm_points), run_time=2)\n",
    "        self.play(FadeIn(gmm_ellipses), run_time=2)\n",
    "        self.play(FadeIn(gmm_legend), Write(gmm_title))\n",
    "        self.wait(3)\n",
    "\n",
    "        # Dezoom and shift GMM to the left\n",
    "        self.play(gmm_group.animate.scale(0.8).shift(LEFT * 4), run_time=1)\n",
    "\n",
    "        # K-Means clustering\n",
    "        kmeans = KMeans(n_clusters=3, random_state=42)\n",
    "        kmeans_labels = kmeans.fit_predict(data)\n",
    "\n",
    "        kmeans_points = self.draw_points_with_aura(data, kmeans_labels, colors)\n",
    "        kmeans_legend = self.create_legend(colors).next_to(kmeans_points, DOWN, buff=0.5)\n",
    "        kmeans_title = Text(\"K-Means Clustering\", font_size=28).next_to(kmeans_points, UP, buff=0.6)\n",
    "\n",
    "        kmeans_group = VGroup(kmeans_points, kmeans_legend, kmeans_title).scale(0.8).next_to(gmm_group, RIGHT, buff=1.0)\n",
    "\n",
    "        self.play(FadeIn(kmeans_points), FadeIn(kmeans_legend), Write(kmeans_title), run_time=5)\n",
    "        self.wait(10)\n",
    "\n",
    "#         # Conclusion Box\n",
    "#         conclusion_text = \"\"\"Why GMM is better here:\n",
    "\n",
    "# • GMM captures\n",
    "#   elongated shapes\n",
    "#   (using full covariance)\n",
    "\n",
    "# • It handles\n",
    "#   orientation &\n",
    "#   overlap well.\n",
    "\n",
    "# • K-Means expects\n",
    "#   spherical, equal-size\n",
    "#   clusters.\"\"\"\n",
    "\n",
    "#         conclusion_lines = Text(conclusion_text, font_size=16, line_spacing=1.2)\n",
    "#         conclusion_box = SurroundingRectangle(conclusion_lines, color=BLUE_B, buff=0.2, corner_radius=0.2)\n",
    "#         conclusion_group = VGroup(conclusion_box, conclusion_lines).next_to(kmeans_group, RIGHT, buff=1.5)\n",
    "\n",
    "\n",
    "#         self.play(FadeIn(conclusion_group), run_time=3)\n",
    "#         self.wait(15)"
   ]
  }
 ],
 "metadata": {
  "kernelspec": {
   "display_name": "Python 3",
   "language": "python",
   "name": "python3"
  },
  "language_info": {
   "codemirror_mode": {
    "name": "ipython",
    "version": 3
   },
   "file_extension": ".py",
   "mimetype": "text/x-python",
   "name": "python",
   "nbconvert_exporter": "python",
   "pygments_lexer": "ipython3",
   "version": "3.11.7"
  }
 },
 "nbformat": 4,
 "nbformat_minor": 2
}
