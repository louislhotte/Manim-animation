{
 "cells": [
  {
   "cell_type": "markdown",
   "metadata": {},
   "source": [
    "# Intro Pipeline"
   ]
  },
  {
   "cell_type": "code",
   "execution_count": 6,
   "metadata": {},
   "outputs": [
    {
     "data": {
      "text/html": [
       "<pre style=\"white-space:pre;overflow-x:auto;line-height:normal;font-family:Menlo,'DejaVu Sans Mono',consolas,'Courier New',monospace\">Manim Community <span style=\"color: #008000; text-decoration-color: #008000\">v0.18.1</span>\n",
       "\n",
       "</pre>\n"
      ],
      "text/plain": [
       "Manim Community \u001b[32mv0.\u001b[0m\u001b[32m18.1\u001b[0m\n",
       "\n"
      ]
     },
     "metadata": {},
     "output_type": "display_data"
    },
    {
     "name": "stderr",
     "output_type": "stream",
     "text": [
      "<string>:11: DeprecationWarning: This method is not guaranteed to stay around. Please prefer setting the attribute normally or with Mobject.set().\n",
      "                                                                                                                           \r"
     ]
    },
    {
     "data": {
      "text/html": [
       "<video src=\"media\\jupyter\\Intro@2025-03-11@13-27-56.mp4\" controls autoplay loop style=\"max-width: 60%;\"  >\n",
       "      Your browser does not support the <code>video</code> element.\n",
       "    </video>"
      ],
      "text/plain": [
       "<IPython.core.display.Video object>"
      ]
     },
     "metadata": {},
     "output_type": "display_data"
    }
   ],
   "source": [
    "%%manim -ql -v WARNING --disable_caching Intro\n",
    "from manim import *\n",
    "\n",
    "class Intro(Scene):\n",
    "    def construct(self):\n",
    "        intro_group = self.introduction(\"Two-Chords Intersection [Quant Interview]\", \n",
    "                                            \"Python | Brainteaser | Probabilities\")\n",
    "        self.play(FadeOut(intro_group))\n",
    "\n",
    "    def introduction(self, title1, title2):\n",
    "        header = Tex(title1)\n",
    "        header.set_width(8)\n",
    "        from_pos = [header.get_left()[0] - 1, header.get_bottom()[1] - 0.5, 0]\n",
    "        to_pos = [header.get_right()[0] + 1, header.get_bottom()[1] - 0.5, 0]\n",
    "        line = Line(from_pos, to_pos)\n",
    "        writer = Tex(\"Created by Ptolémé\")\n",
    "        writer_pos = [(line.get_left()[0] + line.get_right()[0]) / 2, line.get_bottom()[1] - 1, 0]\n",
    "        writer.move_to(writer_pos)\n",
    "        \n",
    "        self.play(Write(header), Write(line))\n",
    "        self.wait(2)\n",
    "        self.play(Transform(header, Tex(title2)))\n",
    "        self.play(Write(writer))\n",
    "        self.wait(1)\n",
    "        \n",
    "        return VGroup(header, writer, line)\n",
    "    \n",
    "    def Outro(self, text):\n",
    "        header = Tex(text)\n",
    "        header.set_width(8)\n",
    "        from_pos = [header.get_left()[0] - 1, header.get_bottom()[1] - 0.5, 0]\n",
    "        to_pos = [header.get_right()[0] + 1, header.get_bottom()[1] - 0.5, 0]\n",
    "        line = Line(from_pos, to_pos)        \n",
    "        self.play(Write(header), Write(line))\n",
    "        self.wait(0.5)"
   ]
  }
 ],
 "metadata": {
  "kernelspec": {
   "display_name": "Python 3",
   "language": "python",
   "name": "python3"
  },
  "language_info": {
   "codemirror_mode": {
    "name": "ipython",
    "version": 3
   },
   "file_extension": ".py",
   "mimetype": "text/x-python",
   "name": "python",
   "nbconvert_exporter": "python",
   "pygments_lexer": "ipython3",
   "version": "3.11.7"
  }
 },
 "nbformat": 4,
 "nbformat_minor": 2
}
