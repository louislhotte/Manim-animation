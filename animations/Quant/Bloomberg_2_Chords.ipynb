{
 "cells": [
  {
   "cell_type": "markdown",
   "metadata": {},
   "source": [
    "# Bloomberg - Two chords"
   ]
  },
  {
   "cell_type": "markdown",
   "metadata": {},
   "source": [
    "<div class=\"alert bloc alert-info\">\n",
    "<b>[Bloomberg - Easy]</b> Say you draw a circle and choose two chords at random. What is the probability that those chords will intersect?\n",
    "\n",
    "</div>"
   ]
  },
  {
   "cell_type": "markdown",
   "metadata": {},
   "source": [
    "<div style=\"\n",
    "    padding: 15px;\n",
    "    background-color: #d4edda;\n",
    "    color: #155724;\n",
    "    border-left: 5px solid #28a745;\n",
    "    border-radius: 5px;\n",
    "    font-size: 16px;\n",
    "    max-width: 95%\">\n",
    "    <strong>Solution:</strong> Imagine you choose four points at random on the circle’s circumference. You then form two chords by pairing these points. The chords will intersect if the endpoints are arranged in an alternating order around the circle (for instance, A, C, B, D rather than A, B, C, D). A combinatorial argument shows that out of the three equally likely ways to pair up four points into two chords, only one results in intersecting chords. Hence, the probability is 1/3.\n",
    "</div>\n"
   ]
  },
  {
   "cell_type": "code",
   "execution_count": null,
   "metadata": {},
   "outputs": [],
   "source": [
    "'''\n",
    "-----------------------------\n",
    "%%manim -ql -v WARNING Video\n",
    "%%manim -qm -v WARNING Video\n",
    "%%manim -qh -v WARNING Video\n",
    "-----------------------------\n",
    "\n",
    "^^^ THE CODE IS ABOVE EVERY CELL AND \"qL\", \"qM\", \"qH\" INDICATES LOW, MEDIUM OR HIGH RESOLUTION.\n",
    "\n",
    "    USE LOW WHEN WRITING THE CODE, TESTING STUFF ETC. AND HIGH WHEN PRODUCING THE FINAL VERSION.\n",
    "'''"
   ]
  },
  {
   "cell_type": "markdown",
   "metadata": {},
   "source": [
    "# I - Code"
   ]
  },
  {
   "cell_type": "code",
   "execution_count": 33,
   "metadata": {},
   "outputs": [],
   "source": [
    "import numpy\n",
    "from manim import *"
   ]
  },
  {
   "cell_type": "code",
   "execution_count": 35,
   "metadata": {},
   "outputs": [
    {
     "data": {
      "text/html": [
       "<pre style=\"white-space:pre;overflow-x:auto;line-height:normal;font-family:Menlo,'DejaVu Sans Mono',consolas,'Courier New',monospace\">Manim Community <span style=\"color: #008000; text-decoration-color: #008000\">v0.18.1</span>\n",
       "\n",
       "</pre>\n"
      ],
      "text/plain": [
       "Manim Community \u001b[32mv0.\u001b[0m\u001b[32m18.1\u001b[0m\n",
       "\n"
      ]
     },
     "metadata": {},
     "output_type": "display_data"
    },
    {
     "name": "stderr",
     "output_type": "stream",
     "text": [
      "                                                                                                   \r"
     ]
    },
    {
     "data": {
      "text/html": [
       "<video src=\"media\\jupyter\\ChordIntersectionProbability@2025-03-11@13-22-28.mp4\" controls autoplay loop style=\"max-width: 60%;\"  >\n",
       "      Your browser does not support the <code>video</code> element.\n",
       "    </video>"
      ],
      "text/plain": [
       "<IPython.core.display.Video object>"
      ]
     },
     "metadata": {},
     "output_type": "display_data"
    }
   ],
   "source": [
    "%%manim -ql -v WARNING --disable_caching ChordIntersectionProbability\n",
    "\n",
    "class ChordIntersectionProbability(Scene):\n",
    "    def construct(self):\n",
    "        # Scene 1: Create a rectangle with \"Problem overview:\" inside.\n",
    "        # Scene 2: Write the problem overview text.\n",
    "        overview_box = Rectangle(width=10, height=3)\n",
    "        overview_title = Text(\"Problem overview:\", font_size=28)\n",
    "        problem_statement = Text(\n",
    "            \"[Bloomberg - Easy] Say you draw a circle and choose two chords at random.\\n\"\n",
    "            \"What is the probability that those chords will intersect?\",\n",
    "            font_size=18,\n",
    "            t2c={\"[Bloomberg - Easy]\": YELLOW}\n",
    "        )\n",
    "        overview_group = VGroup(overview_title, problem_statement).arrange(DOWN, aligned_edge=LEFT, buff=0.3)\n",
    "        overview_group.move_to(overview_box.get_center())\n",
    "        self.play(Create(overview_box))\n",
    "        self.play(Write(overview_group), run_time=5)\n",
    "        self.wait(15)\n",
    "\n",
    "        # Scene 3: Remove everything and write \"Solution\" on top center.\n",
    "        self.play(FadeOut(VGroup(overview_box, overview_title, problem_statement)))\n",
    "        solution_title = Text(\"Solution\", font_size=48)\n",
    "        solution_title.to_edge(UP)\n",
    "        self.play(Write(solution_title))\n",
    "        self.wait(10)\n",
    "\n",
    "        # Scene 4: Draw a circle and four points on the circle.\n",
    "        circle = Circle(radius=2, color=GREY_A)\n",
    "        self.play(Create(circle))\n",
    "        angles = [45, 135, 225, 315]  # angles in degrees\n",
    "        dots = VGroup()\n",
    "        labels = VGroup()\n",
    "        for i, angle in enumerate(angles):\n",
    "            rad = np.radians(angle)\n",
    "            point = circle.point_at_angle(rad)\n",
    "            dot = Dot(point)\n",
    "            dots.add(dot)\n",
    "            label = Tex(chr(65 + i)).scale(0.8)  # A, B, C, D\n",
    "            \n",
    "            buff = 0.3\n",
    "            unit_vector = point / np.linalg.norm(point)\n",
    "            label.move_to(point + unit_vector * buff)\n",
    "            labels.add(label)\n",
    "        self.play(FadeIn(dots), Write(labels))\n",
    "        self.wait(10)\n",
    "\n",
    "        # Group the circle with its dots and labels.\n",
    "        base_figure = VGroup(circle, dots, labels)\n",
    "\n",
    "        # Scene 5: Duplicate the figure on the screen (make three copies).\n",
    "        figure1 = base_figure.copy()\n",
    "        figure2 = base_figure.copy()\n",
    "        figure3 = base_figure.copy()\n",
    "        figure1.shift(LEFT * 4.75)\n",
    "        figure2.shift(ORIGIN)  # stays in the center\n",
    "        figure3.shift(RIGHT * 4.75)\n",
    "        self.play(FadeIn(figure1), FadeIn(figure2), FadeIn(figure3), run_time=5)\n",
    "        self.wait(5)\n",
    "\n",
    "        def get_dot_positions(fig):\n",
    "            dot_group = fig[1]\n",
    "            return [dot.get_center() for dot in dot_group]\n",
    "\n",
    "        pos1 = get_dot_positions(figure1)\n",
    "        pos2 = get_dot_positions(figure2)\n",
    "        pos3 = get_dot_positions(figure3)\n",
    "\n",
    "        # Scene 6: Draw the three different chord pairings.\n",
    "        # For the points labeled (in order) A, B, C, D:\n",
    "        # Pairing 1 (Figure 1): (A, B) and (C, D)\n",
    "        chord1_fig1 = Line(pos1[0], pos1[1], color=YELLOW_C)\n",
    "        chord2_fig1 = Line(pos1[2], pos1[3], color=YELLOW_C)\n",
    "        # Pairing 2 (Figure 2): (A, C) and (B, D)  -> intersecting chords\n",
    "        chord1_fig2 = Line(pos2[0], pos2[2], color=YELLOW_C)\n",
    "        chord2_fig2 = Line(pos2[1], pos2[3], color=YELLOW_C)\n",
    "        # Pairing 3 (Figure 3): (A, D) and (B, C)\n",
    "        chord1_fig3 = Line(pos3[0], pos3[3], color=YELLOW_C)\n",
    "        chord2_fig3 = Line(pos3[1], pos3[2], color=YELLOW_C)\n",
    "        chords = VGroup(chord1_fig1, chord2_fig1, chord1_fig2, chord2_fig2, chord1_fig3, chord2_fig3)\n",
    "        self.play(Create(chords), run_time=10)\n",
    "        self.wait(2)\n",
    "\n",
    "        # Scene 7: Highlight the correct pairing (Figure 2) with a green rectangle,\n",
    "        # and surround the other two (Figures 1 and 3) with red circles.\n",
    "        green_box = SurroundingRectangle(figure2, color=GREEN)\n",
    "        red_box_1 = SurroundingRectangle(figure1, color=RED_A)\n",
    "        red_box_2 = SurroundingRectangle(figure3, color=RED_B)\n",
    "\n",
    "        self.play(Create(green_box), run_time=2)\n",
    "        self.play(Create(red_box_1), run_time=2)\n",
    "        self.play(Create(red_box_2), run_time=2)\n",
    "        self.wait(2)\n",
    "\n",
    "         # Scene 8: Write \"P = 1 / 3\" at the bottom and surround it with a white circle.\n",
    "        probability_text = Text(\"P = 1 / 3\", font_size=36)\n",
    "        probability_text.to_edge(DOWN)\n",
    "        white_box = SurroundingRectangle(probability_text, color=WHITE)\n",
    "        self.play(Write(probability_text), Create(white_box))\n",
    "        self.wait(30)"
   ]
  },
  {
   "cell_type": "code",
   "execution_count": null,
   "metadata": {},
   "outputs": [],
   "source": []
  }
 ],
 "metadata": {
  "kernelspec": {
   "display_name": "Python 3",
   "language": "python",
   "name": "python3"
  },
  "language_info": {
   "codemirror_mode": {
    "name": "ipython",
    "version": 3
   },
   "file_extension": ".py",
   "mimetype": "text/x-python",
   "name": "python",
   "nbconvert_exporter": "python",
   "pygments_lexer": "ipython3",
   "version": "3.11.7"
  }
 },
 "nbformat": 4,
 "nbformat_minor": 2
}
