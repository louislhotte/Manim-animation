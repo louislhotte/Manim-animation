{
 "cells": [
  {
   "cell_type": "markdown",
   "metadata": {},
   "source": [
    "Leetcode Scrapper"
   ]
  },
  {
   "cell_type": "code",
   "execution_count": 6,
   "metadata": {},
   "outputs": [
    {
     "name": "stdout",
     "output_type": "stream",
     "text": [
      "Erreur lors de la requête GET: 403 Client Error: Forbidden for url: https://leetcode.com/contest/biweekly-contest-136/\n",
      "Impossible de récupérer le contenu HTML de la page.\n"
     ]
    }
   ],
   "source": [
    "import requests\n",
    "\n",
    "def get_html(url, method='GET', data=None):\n",
    "    session = requests.Session()\n",
    "    headers = {\n",
    "        'User-Agent': 'Mozilla/5.0 (Windows NT 10.0; Win64; x64) AppleWebKit/537.36 (KHTML, like Gecko) Chrome/91.0.4472.124 Safari/537.36',\n",
    "        'Accept-Language': 'en-US,en;q=0.9',\n",
    "        'Accept-Encoding': 'gzip, deflate, br',\n",
    "        'Accept': 'text/html,application/xhtml+xml,application/xml;q=0.9,image/webp,image/apng,*/*;q=0.8',\n",
    "        'Referer': 'https://www.google.com/',\n",
    "        'Connection': 'keep-alive'\n",
    "    }\n",
    "    try:\n",
    "        if method.upper() == 'POST':\n",
    "            response = session.post(url, headers=headers, data=data)\n",
    "        else:\n",
    "            response = session.get(url, headers=headers)\n",
    "        \n",
    "        response.raise_for_status()  # Vérifie si la requête a réussi (status code 200)\n",
    "        return response.text\n",
    "    except requests.exceptions.RequestException as e:\n",
    "        print(f\"Erreur lors de la requête {method}: {e}\")\n",
    "        return None\n",
    "\n",
    "url = \"https://leetcode.com/contest/biweekly-contest-136/\"\n",
    "html_content = get_html(url)\n",
    "\n",
    "if html_content:\n",
    "    print(html_content)  \n",
    "else:\n",
    "    print(\"Impossible de récupérer le contenu HTML de la page.\")"
   ]
  }
 ],
 "metadata": {
  "kernelspec": {
   "display_name": "Python 3",
   "language": "python",
   "name": "python3"
  },
  "language_info": {
   "codemirror_mode": {
    "name": "ipython",
    "version": 3
   },
   "file_extension": ".py",
   "mimetype": "text/x-python",
   "name": "python",
   "nbconvert_exporter": "python",
   "pygments_lexer": "ipython3",
   "version": "3.11.7"
  }
 },
 "nbformat": 4,
 "nbformat_minor": 2
}
